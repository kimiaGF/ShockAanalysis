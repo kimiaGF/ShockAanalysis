{
 "cells": [
  {
   "cell_type": "markdown",
   "metadata": {},
   "source": [
    "# Analysis of LAMMPS Shock Simulation\n",
    "Only compatible with momentum mirror technique"
   ]
  },
  {
   "cell_type": "code",
   "execution_count": 4,
   "metadata": {},
   "outputs": [],
   "source": [
    "from glob import glob\n",
    "from ShockAnalysis.shock_analysis import SimulationDump, process_files\n"
   ]
  },
  {
   "cell_type": "markdown",
   "metadata": {},
   "source": [
    "## Process files"
   ]
  },
  {
   "cell_type": "code",
   "execution_count": 5,
   "metadata": {},
   "outputs": [],
   "source": [
    "filepattern = '/home/kimia.gh/blue2/B4C_ML_Potential/B4C_LAMMPS/DPMD_GPU/orientation_shock_50-50-1000/B*/*/mid_chain/0.0/shock_*/dump.data_shock_chunk_*'\n",
    "files = glob(filepattern)\n",
    "\n",
    "#given a file list returns a MultiIndex Dataframe of SimulationDump objects based on the files\n",
    "sim_df = process_files(files, ts=1.0)"
   ]
  },
  {
   "cell_type": "code",
   "execution_count": 6,
   "metadata": {},
   "outputs": [
    {
     "data": {
      "text/html": [
       "<div>\n",
       "<style scoped>\n",
       "    .dataframe tbody tr th:only-of-type {\n",
       "        vertical-align: middle;\n",
       "    }\n",
       "\n",
       "    .dataframe tbody tr th {\n",
       "        vertical-align: top;\n",
       "    }\n",
       "\n",
       "    .dataframe thead th {\n",
       "        text-align: right;\n",
       "    }\n",
       "</style>\n",
       "<table border=\"1\" class=\"dataframe\">\n",
       "  <thead>\n",
       "    <tr style=\"text-align: right;\">\n",
       "      <th></th>\n",
       "      <th></th>\n",
       "      <th></th>\n",
       "      <th></th>\n",
       "      <th></th>\n",
       "      <th>SimDump</th>\n",
       "    </tr>\n",
       "    <tr>\n",
       "      <th>polytype</th>\n",
       "      <th>angle</th>\n",
       "      <th>removal</th>\n",
       "      <th>vac_frac</th>\n",
       "      <th>velocity</th>\n",
       "      <th></th>\n",
       "    </tr>\n",
       "  </thead>\n",
       "  <tbody>\n",
       "    <tr>\n",
       "      <th rowspan=\"5\" valign=\"top\">B12-CBC</th>\n",
       "      <th rowspan=\"5\" valign=\"top\">90.0</th>\n",
       "      <th rowspan=\"5\" valign=\"top\">mid_chain</th>\n",
       "      <th rowspan=\"5\" valign=\"top\">0.0</th>\n",
       "      <th>-15.0</th>\n",
       "      <td>SimDump Object</td>\n",
       "    </tr>\n",
       "    <tr>\n",
       "      <th>-5.0</th>\n",
       "      <td>SimDump Object</td>\n",
       "    </tr>\n",
       "    <tr>\n",
       "      <th>-20.0</th>\n",
       "      <td>SimDump Object</td>\n",
       "    </tr>\n",
       "    <tr>\n",
       "      <th>-10.0</th>\n",
       "      <td>SimDump Object</td>\n",
       "    </tr>\n",
       "    <tr>\n",
       "      <th>-25.0</th>\n",
       "      <td>SimDump Object</td>\n",
       "    </tr>\n",
       "    <tr>\n",
       "      <th>...</th>\n",
       "      <th>...</th>\n",
       "      <th>...</th>\n",
       "      <th>...</th>\n",
       "      <th>...</th>\n",
       "      <td>...</td>\n",
       "    </tr>\n",
       "    <tr>\n",
       "      <th rowspan=\"5\" valign=\"top\">B11-Ce-CBC</th>\n",
       "      <th rowspan=\"5\" valign=\"top\">0.0</th>\n",
       "      <th rowspan=\"5\" valign=\"top\">mid_chain</th>\n",
       "      <th rowspan=\"5\" valign=\"top\">0.0</th>\n",
       "      <th>-10.0</th>\n",
       "      <td>SimDump Object</td>\n",
       "    </tr>\n",
       "    <tr>\n",
       "      <th>-25.0</th>\n",
       "      <td>SimDump Object</td>\n",
       "    </tr>\n",
       "    <tr>\n",
       "      <th>-35.0</th>\n",
       "      <td>SimDump Object</td>\n",
       "    </tr>\n",
       "    <tr>\n",
       "      <th>-40.0</th>\n",
       "      <td>SimDump Object</td>\n",
       "    </tr>\n",
       "    <tr>\n",
       "      <th>-30.0</th>\n",
       "      <td>SimDump Object</td>\n",
       "    </tr>\n",
       "  </tbody>\n",
       "</table>\n",
       "<p>160 rows × 1 columns</p>\n",
       "</div>"
      ],
      "text/plain": [
       "                                                     SimDump\n",
       "polytype   angle removal   vac_frac velocity                \n",
       "B12-CBC    90.0  mid_chain 0.0      -15.0     SimDump Object\n",
       "                                    -5.0      SimDump Object\n",
       "                                    -20.0     SimDump Object\n",
       "                                    -10.0     SimDump Object\n",
       "                                    -25.0     SimDump Object\n",
       "...                                                      ...\n",
       "B11-Ce-CBC 0.0   mid_chain 0.0      -10.0     SimDump Object\n",
       "                                    -25.0     SimDump Object\n",
       "                                    -35.0     SimDump Object\n",
       "                                    -40.0     SimDump Object\n",
       "                                    -30.0     SimDump Object\n",
       "\n",
       "[160 rows x 1 columns]"
      ]
     },
     "execution_count": 6,
     "metadata": {},
     "output_type": "execute_result"
    }
   ],
   "source": [
    "sim_df"
   ]
  },
  {
   "cell_type": "code",
   "execution_count": null,
   "metadata": {},
   "outputs": [],
   "source": []
  }
 ],
 "metadata": {
  "kernelspec": {
   "display_name": "pmg",
   "language": "python",
   "name": "python3"
  },
  "language_info": {
   "codemirror_mode": {
    "name": "ipython",
    "version": 3
   },
   "file_extension": ".py",
   "mimetype": "text/x-python",
   "name": "python",
   "nbconvert_exporter": "python",
   "pygments_lexer": "ipython3",
   "version": "3.9.17"
  }
 },
 "nbformat": 4,
 "nbformat_minor": 2
}
