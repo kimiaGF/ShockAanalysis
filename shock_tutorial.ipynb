{
 "cells": [
  {
   "cell_type": "markdown",
   "metadata": {},
   "source": [
    "# Analysis of LAMMPS Shock Simulation\n",
    "Only compatible with momentum mirror technique"
   ]
  },
  {
   "cell_type": "code",
   "execution_count": 36,
   "metadata": {},
   "outputs": [],
   "source": [
    "from glob import glob\n",
    "from ShockAnalysis.shock_analysis import SimulationDump, process_files\n",
    "from ShockAnalysis.process_data import analyze_files\n",
    "import pandas as pd\n"
   ]
  },
  {
   "cell_type": "markdown",
   "metadata": {},
   "source": [
    "## Process files"
   ]
  },
  {
   "cell_type": "code",
   "execution_count": 30,
   "metadata": {},
   "outputs": [],
   "source": [
    "filepattern = '/home/kimia.gh/blue2/B4C_ML_Potential/B4C_LAMMPS/DPMD_GPU/orientation_shock_50-50-1000/B*/*/mid_chain/0.0/shock_*/dump.data_shock_chunk_*'\n",
    "fs = glob(filepattern)\n",
    "\n",
    "#make a processed file for each simualtion if not already there\n",
    "analyze_files(fs)\n",
    "\n",
    "#given a file list returns a MultiIndex Dataframe of SimulationDump objects based on the files\n",
    "sim_df = process_files(fs, ts=1.0)"
   ]
  },
  {
   "cell_type": "code",
   "execution_count": 31,
   "metadata": {},
   "outputs": [
    {
     "data": {
      "text/plain": [
       "FrozenList([['B11-Ce-CBC', 'B11-Cp-CBC', 'B12-CBC', 'B12-CCC'], [0.0, 30.0, 45.0, 60.0, 90.0], ['mid_chain'], [0.0], [-40.0, -35.0, -30.0, -25.0, -20.0, -15.0, -10.0, -5.0]])"
      ]
     },
     "execution_count": 31,
     "metadata": {},
     "output_type": "execute_result"
    }
   ],
   "source": [
    "sim_df.index.levels"
   ]
  },
  {
   "cell_type": "markdown",
   "metadata": {},
   "source": [
    "# Extract information from DataFrame with Multi-indexing"
   ]
  },
  {
   "cell_type": "code",
   "execution_count": 32,
   "metadata": {},
   "outputs": [
    {
     "ename": "NameError",
     "evalue": "name 'fs_dense' is not defined",
     "output_type": "error",
     "traceback": [
      "\u001b[0;31m---------------------------------------------------------------------------\u001b[0m",
      "\u001b[0;31mNameError\u001b[0m                                 Traceback (most recent call last)",
      "Cell \u001b[0;32mIn[32], line 8\u001b[0m\n\u001b[1;32m      5\u001b[0m bin2 \u001b[38;5;241m=\u001b[39m \u001b[38;5;241m60\u001b[39m\n\u001b[1;32m      7\u001b[0m simulations \u001b[38;5;241m=\u001b[39m [SimulationDump(f) \u001b[38;5;28;01mfor\u001b[39;00m f \u001b[38;5;129;01min\u001b[39;00m fs]\n\u001b[0;32m----> 8\u001b[0m simulations_dense \u001b[38;5;241m=\u001b[39m [SimulationDump(f) \u001b[38;5;28;01mfor\u001b[39;00m f \u001b[38;5;129;01min\u001b[39;00m \u001b[43mfs_dense\u001b[49m]\n\u001b[1;32m     10\u001b[0m \u001b[38;5;66;03m# get all hugoniot states for all simulations and merge into dataframe\u001b[39;00m\n\u001b[1;32m     11\u001b[0m hug_states \u001b[38;5;241m=\u001b[39m pd\u001b[38;5;241m.\u001b[39mDataFrame([s\u001b[38;5;241m.\u001b[39mget_hugoniot_state(bin1,bin2,t1,t2) \u001b[38;5;28;01mfor\u001b[39;00m s \u001b[38;5;129;01min\u001b[39;00m simulations])\n",
      "\u001b[0;31mNameError\u001b[0m: name 'fs_dense' is not defined"
     ]
    }
   ],
   "source": [
    "# get timesteps where simulation is stable \n",
    "t1 = 6000\n",
    "t2 = 8000\n",
    "bin1 = 30\n",
    "bin2 = 60\n",
    "\n",
    "simulations = [SimulationDump(f) for f in fs]\n",
    "simulations_dense = [SimulationDump(f) for f in fs_dense]\n",
    "\n",
    "# get all hugoniot states for all simulations and merge into dataframe\n",
    "hug_states = pd.DataFrame([s.get_hugoniot_state(bin1,bin2,t1,t2) for s in simulations])\n",
    "hug_states_dense = pd.DataFrame([s.get_hugoniot_state(bin1,bin2,t1,t2) for s in simulations_dense])\n",
    "\n",
    "# group by polytype, angle and angle \n",
    "hug_poly = hug_states.set_index(['polytype','angle'])\n",
    "hug_poly_dense = hug_states_dense.set_index(['polytype','angle'])\n",
    "\n",
    "idx = pd.IndexSlice\n",
    "polytype = 'B12-CBC'\n",
    "hug_poly.loc[idx[polytype,angle]]\n",
    "hug_poly_dense.loc[idx[polytype,angle]]\n",
    "\n",
    "hug_states.loc[hug_states['angle']==angle].loc[hug_states['polytype']==polytype]\n",
    "hug_states_dense.loc[hug_states_dense['angle']==angle].loc[hug_states_dense['polytype']==polytype]\n"
   ]
  },
  {
   "cell_type": "code",
   "execution_count": 25,
   "metadata": {},
   "outputs": [
    {
     "data": {
      "text/html": [
       "<div>\n",
       "<style scoped>\n",
       "    .dataframe tbody tr th:only-of-type {\n",
       "        vertical-align: middle;\n",
       "    }\n",
       "\n",
       "    .dataframe tbody tr th {\n",
       "        vertical-align: top;\n",
       "    }\n",
       "\n",
       "    .dataframe thead th {\n",
       "        text-align: right;\n",
       "    }\n",
       "</style>\n",
       "<table border=\"1\" class=\"dataframe\">\n",
       "  <thead>\n",
       "    <tr style=\"text-align: right;\">\n",
       "      <th></th>\n",
       "      <th></th>\n",
       "      <th></th>\n",
       "      <th></th>\n",
       "      <th></th>\n",
       "      <th>SimDump</th>\n",
       "    </tr>\n",
       "    <tr>\n",
       "      <th>polytype</th>\n",
       "      <th>angle</th>\n",
       "      <th>removal</th>\n",
       "      <th>vac_frac</th>\n",
       "      <th>velocity</th>\n",
       "      <th></th>\n",
       "    </tr>\n",
       "  </thead>\n",
       "  <tbody>\n",
       "    <tr>\n",
       "      <th rowspan=\"24\" valign=\"top\">B12-CBC</th>\n",
       "      <th rowspan=\"8\" valign=\"top\">0.0</th>\n",
       "      <th rowspan=\"8\" valign=\"top\">mid_chain</th>\n",
       "      <th rowspan=\"8\" valign=\"top\">0.0</th>\n",
       "      <th>-15.0</th>\n",
       "      <td>SimDump Object</td>\n",
       "    </tr>\n",
       "    <tr>\n",
       "      <th>-5.0</th>\n",
       "      <td>SimDump Object</td>\n",
       "    </tr>\n",
       "    <tr>\n",
       "      <th>-20.0</th>\n",
       "      <td>SimDump Object</td>\n",
       "    </tr>\n",
       "    <tr>\n",
       "      <th>-10.0</th>\n",
       "      <td>SimDump Object</td>\n",
       "    </tr>\n",
       "    <tr>\n",
       "      <th>-25.0</th>\n",
       "      <td>SimDump Object</td>\n",
       "    </tr>\n",
       "    <tr>\n",
       "      <th>-35.0</th>\n",
       "      <td>SimDump Object</td>\n",
       "    </tr>\n",
       "    <tr>\n",
       "      <th>-40.0</th>\n",
       "      <td>SimDump Object</td>\n",
       "    </tr>\n",
       "    <tr>\n",
       "      <th>-30.0</th>\n",
       "      <td>SimDump Object</td>\n",
       "    </tr>\n",
       "    <tr>\n",
       "      <th rowspan=\"8\" valign=\"top\">30.0</th>\n",
       "      <th rowspan=\"8\" valign=\"top\">mid_chain</th>\n",
       "      <th rowspan=\"8\" valign=\"top\">0.0</th>\n",
       "      <th>-15.0</th>\n",
       "      <td>SimDump Object</td>\n",
       "    </tr>\n",
       "    <tr>\n",
       "      <th>-5.0</th>\n",
       "      <td>SimDump Object</td>\n",
       "    </tr>\n",
       "    <tr>\n",
       "      <th>-20.0</th>\n",
       "      <td>SimDump Object</td>\n",
       "    </tr>\n",
       "    <tr>\n",
       "      <th>-10.0</th>\n",
       "      <td>SimDump Object</td>\n",
       "    </tr>\n",
       "    <tr>\n",
       "      <th>-25.0</th>\n",
       "      <td>SimDump Object</td>\n",
       "    </tr>\n",
       "    <tr>\n",
       "      <th>-35.0</th>\n",
       "      <td>SimDump Object</td>\n",
       "    </tr>\n",
       "    <tr>\n",
       "      <th>-40.0</th>\n",
       "      <td>SimDump Object</td>\n",
       "    </tr>\n",
       "    <tr>\n",
       "      <th>-30.0</th>\n",
       "      <td>SimDump Object</td>\n",
       "    </tr>\n",
       "    <tr>\n",
       "      <th rowspan=\"8\" valign=\"top\">60.0</th>\n",
       "      <th rowspan=\"8\" valign=\"top\">mid_chain</th>\n",
       "      <th rowspan=\"8\" valign=\"top\">0.0</th>\n",
       "      <th>-15.0</th>\n",
       "      <td>SimDump Object</td>\n",
       "    </tr>\n",
       "    <tr>\n",
       "      <th>-5.0</th>\n",
       "      <td>SimDump Object</td>\n",
       "    </tr>\n",
       "    <tr>\n",
       "      <th>-20.0</th>\n",
       "      <td>SimDump Object</td>\n",
       "    </tr>\n",
       "    <tr>\n",
       "      <th>-10.0</th>\n",
       "      <td>SimDump Object</td>\n",
       "    </tr>\n",
       "    <tr>\n",
       "      <th>-25.0</th>\n",
       "      <td>SimDump Object</td>\n",
       "    </tr>\n",
       "    <tr>\n",
       "      <th>-35.0</th>\n",
       "      <td>SimDump Object</td>\n",
       "    </tr>\n",
       "    <tr>\n",
       "      <th>-40.0</th>\n",
       "      <td>SimDump Object</td>\n",
       "    </tr>\n",
       "    <tr>\n",
       "      <th>-30.0</th>\n",
       "      <td>SimDump Object</td>\n",
       "    </tr>\n",
       "  </tbody>\n",
       "</table>\n",
       "</div>"
      ],
      "text/plain": [
       "                                                   SimDump\n",
       "polytype angle removal   vac_frac velocity                \n",
       "B12-CBC  0.0   mid_chain 0.0      -15.0     SimDump Object\n",
       "                                  -5.0      SimDump Object\n",
       "                                  -20.0     SimDump Object\n",
       "                                  -10.0     SimDump Object\n",
       "                                  -25.0     SimDump Object\n",
       "                                  -35.0     SimDump Object\n",
       "                                  -40.0     SimDump Object\n",
       "                                  -30.0     SimDump Object\n",
       "         30.0  mid_chain 0.0      -15.0     SimDump Object\n",
       "                                  -5.0      SimDump Object\n",
       "                                  -20.0     SimDump Object\n",
       "                                  -10.0     SimDump Object\n",
       "                                  -25.0     SimDump Object\n",
       "                                  -35.0     SimDump Object\n",
       "                                  -40.0     SimDump Object\n",
       "                                  -30.0     SimDump Object\n",
       "         60.0  mid_chain 0.0      -15.0     SimDump Object\n",
       "                                  -5.0      SimDump Object\n",
       "                                  -20.0     SimDump Object\n",
       "                                  -10.0     SimDump Object\n",
       "                                  -25.0     SimDump Object\n",
       "                                  -35.0     SimDump Object\n",
       "                                  -40.0     SimDump Object\n",
       "                                  -30.0     SimDump Object"
      ]
     },
     "execution_count": 25,
     "metadata": {},
     "output_type": "execute_result"
    }
   ],
   "source": [
    "df_subset"
   ]
  },
  {
   "cell_type": "code",
   "execution_count": null,
   "metadata": {},
   "outputs": [],
   "source": []
  }
 ],
 "metadata": {
  "kernelspec": {
   "display_name": "pmg",
   "language": "python",
   "name": "python3"
  },
  "language_info": {
   "codemirror_mode": {
    "name": "ipython",
    "version": 3
   },
   "file_extension": ".py",
   "mimetype": "text/x-python",
   "name": "python",
   "nbconvert_exporter": "python",
   "pygments_lexer": "ipython3",
   "version": "3.9.17"
  }
 },
 "nbformat": 4,
 "nbformat_minor": 2
}
